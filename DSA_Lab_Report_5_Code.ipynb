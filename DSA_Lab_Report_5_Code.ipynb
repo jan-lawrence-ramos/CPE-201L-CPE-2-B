{
  "nbformat": 4,
  "nbformat_minor": 0,
  "metadata": {
    "colab": {
      "provenance": [],
      "authorship_tag": "ABX9TyPpwqWr3DjxGN64MmWk/FLH",
      "include_colab_link": true
    },
    "kernelspec": {
      "name": "python3",
      "display_name": "Python 3"
    },
    "language_info": {
      "name": "python"
    }
  },
  "cells": [
    {
      "cell_type": "markdown",
      "metadata": {
        "id": "view-in-github",
        "colab_type": "text"
      },
      "source": [
        "<a href=\"https://colab.research.google.com/github/jan-lawrence-ramos/CPE-201L-CPE-2-B/blob/main/DSA_Lab_Report_5_Code.ipynb\" target=\"_parent\"><img src=\"https://colab.research.google.com/assets/colab-badge.svg\" alt=\"Open In Colab\"/></a>"
      ]
    },
    {
      "cell_type": "code",
      "execution_count": 4,
      "metadata": {
        "colab": {
          "base_uri": "https://localhost:8080/"
        },
        "id": "YC3Y3iT-fLvW",
        "outputId": "a90c3d5b-7da8-40d7-b176-f6b7489eb117"
      },
      "outputs": [
        {
          "output_type": "stream",
          "name": "stdout",
          "text": [
            "Array items: [1, 2, 3, 4, 5, 6, 7, 8, 9, 10]\n",
            "Element at index 0: 1\n",
            "Element at index 1: 2\n",
            "Element at index 2: 3\n",
            "Element at index 3: 4\n",
            "Element at index 4: 5\n",
            "Element at index 5: 6\n",
            "Element at index 6: 7\n",
            "Element at index 7: 8\n",
            "Element at index 8: 9\n",
            "Element at index 9: 10\n",
            "Sum of all elements: 55\n",
            "Original array: [1, 2, 3, 4, 5, 6, 7, 8, 9, 10]\n",
            "Array after appending 11: [1, 2, 3, 4, 5, 6, 7, 8, 9, 10, 11]\n",
            "Original array: [1, 2, 3, 4, 5, 6, 7, 8, 9, 10]\n",
            "Array after inserting 1.5 before the second element: [1, 1.5, 2, 3, 4, 5, 6, 7, 8, 9, 10]\n"
          ]
        }
      ],
      "source": [
        "# Problem 1\n",
        "# Create an array of 10 integers\n",
        "numbers = [1, 2, 3, 4, 5, 6, 7, 8, 9, 10]\n",
        "\n",
        "# Display array items\n",
        "print(\"Array items:\", numbers)\n",
        "\n",
        "# Access individual elements through indexes and compute sum\n",
        "total_sum = 0\n",
        "for i in range(len(numbers)):\n",
        "    print(f\"Element at index {i}: {numbers[i]}\")\n",
        "    total_sum += numbers[i]\n",
        "\n",
        "print(\"Sum of all elements:\", total_sum)\n",
        "\n",
        "# Problem 2\n",
        "# Original array\n",
        "numbers = [1, 2, 3, 4, 5, 6, 7, 8, 9, 10]\n",
        "print(\"Original array:\", numbers)\n",
        "\n",
        "# Append a new item to the end of the array\n",
        "numbers.append(11)\n",
        "print(\"Array after appending 11:\", numbers)\n",
        "\n",
        "# Problem 3\n",
        "# Original array\n",
        "numbers = [1, 2, 3, 4, 5, 6, 7, 8, 9, 10]\n",
        "print(\"Original array:\", numbers)\n",
        "\n",
        "# Insert a new item before the second element\n",
        "numbers.insert(1, 1.5)\n",
        "print(\"Array after inserting 1.5 before the second element:\", numbers)\n"
      ]
    },
    {
      "cell_type": "markdown",
      "source": [],
      "metadata": {
        "id": "Gjx6vp1KMibg"
      }
    },
    {
      "cell_type": "code",
      "source": [
        "# Problem 4\n",
        "# Original array\n",
        "numbers = [5, 4, 3, 2, 1]\n",
        "print(\"Original array:\", numbers)\n",
        "\n",
        "# Reverse the order of the items\n",
        "numbers.reverse()\n",
        "print(\"Reversed array:\", numbers)\n",
        "\n",
        "#Prblem 5\n",
        "# Original array\n",
        "numbers = [5, 4, 3, 2, 1]\n",
        "print(\"Array:\", numbers)\n",
        "\n",
        "# Get the length of the array\n",
        "length = len(numbers)\n",
        "print(\"Length of the array:\", length)"
      ],
      "metadata": {
        "colab": {
          "base_uri": "https://localhost:8080/"
        },
        "id": "Ceja_SdXMi8O",
        "outputId": "5916d368-bc50-459a-a6f1-8e9e01cf0e2b"
      },
      "execution_count": 6,
      "outputs": [
        {
          "output_type": "stream",
          "name": "stdout",
          "text": [
            "Original array: [5, 4, 3, 2, 1]\n",
            "Reversed array: [1, 2, 3, 4, 5]\n",
            "Array: [5, 4, 3, 2, 1]\n",
            "Length of the array: 5\n"
          ]
        }
      ]
    }
  ]
}