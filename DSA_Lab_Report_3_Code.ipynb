{
  "nbformat": 4,
  "nbformat_minor": 0,
  "metadata": {
    "colab": {
      "provenance": [],
      "authorship_tag": "ABX9TyPd5V9iPMD7WUVle6e56oxY",
      "include_colab_link": true
    },
    "kernelspec": {
      "name": "python3",
      "display_name": "Python 3"
    },
    "language_info": {
      "name": "python"
    }
  },
  "cells": [
    {
      "cell_type": "markdown",
      "metadata": {
        "id": "view-in-github",
        "colab_type": "text"
      },
      "source": [
        "<a href=\"https://colab.research.google.com/github/jan-lawrence-ramos/CPE-201L-CPE-2-B/blob/main/DSA_Lab_Report_3_Code.ipynb\" target=\"_parent\"><img src=\"https://colab.research.google.com/assets/colab-badge.svg\" alt=\"Open In Colab\"/></a>"
      ]
    },
    {
      "cell_type": "code",
      "execution_count": 1,
      "metadata": {
        "colab": {
          "base_uri": "https://localhost:8080/"
        },
        "id": "HxfUlyuYBcPG",
        "outputId": "2d4a725a-d28e-4043-c184-3cf5cfaf7bc2"
      },
      "outputs": [
        {
          "output_type": "stream",
          "name": "stdout",
          "text": [
            "Sum of even scores: 186\n"
          ]
        }
      ],
      "source": [
        "def sum_evens(scores):\n",
        "    \"\"\"Calculate sum of even numbers in a list.\"\"\"\n",
        "    total = 0\n",
        "    for num in scores:\n",
        "        if num % 2 == 0:\n",
        "            total += num\n",
        "    return total\n",
        "\n",
        "scores = [26, 49, 98, 87, 62, 75]\n",
        "print(\"Sum of even scores:\", sum_evens(scores))"
      ]
    }
  ]
}