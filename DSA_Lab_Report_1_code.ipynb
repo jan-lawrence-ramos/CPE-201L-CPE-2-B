{
  "nbformat": 4,
  "nbformat_minor": 0,
  "metadata": {
    "colab": {
      "provenance": [],
      "authorship_tag": "ABX9TyN/04/06fBSOt0qrXMWRVd9",
      "include_colab_link": true
    },
    "kernelspec": {
      "name": "python3",
      "display_name": "Python 3"
    },
    "language_info": {
      "name": "python"
    }
  },
  "cells": [
    {
      "cell_type": "markdown",
      "metadata": {
        "id": "view-in-github",
        "colab_type": "text"
      },
      "source": [
        "<a href=\"https://colab.research.google.com/github/jan-lawrence-ramos/CPE-201L-CPE-2-B/blob/main/DSA_Lab_Report_1_code.ipynb\" target=\"_parent\"><img src=\"https://colab.research.google.com/assets/colab-badge.svg\" alt=\"Open In Colab\"/></a>"
      ]
    },
    {
      "cell_type": "code",
      "execution_count": 2,
      "metadata": {
        "id": "IYHLH6ZuCt2f"
      },
      "outputs": [],
      "source": [
        "class Polygons:\n",
        "    def __init__(self, name: str, sides: int, area: float):\n",
        "        self._name = name  # Polygon name\n",
        "        self._sides = sides  # Number of sides\n",
        "        self._area = area  # Surface area\n",
        "\n",
        "    # Name accessors\n",
        "    def set_name(self, name: str):\n",
        "        self._name = name\n",
        "\n",
        "    def get_name(self) -> str:\n",
        "        return self._name\n",
        "\n",
        "    # Sides accessors\n",
        "    def set_sides(self, sides: int):\n",
        "        self._sides = sides\n",
        "\n",
        "    def get_sides(self) -> int:\n",
        "        return self._sides\n",
        "\n",
        "    # Area accessors\n",
        "    def set_area(self, area: float):\n",
        "        self._area = area\n",
        "\n",
        "    def get_area(self) -> float:\n",
        "        return self._area"
      ]
    },
    {
      "cell_type": "markdown",
      "source": [],
      "metadata": {
        "id": "lQ1d-GCDCzjd"
      }
    },
    {
      "cell_type": "code",
      "source": [
        "square = Polygons(name=\"Square\", sides=4, area=25.0)\n",
        "\n",
        "print(\"Polygon Name:\", square.get_name())\n",
        "print(\"Number of Sides:\", square.get_sides())\n",
        "print(\"Area:\", square.get_area())"
      ],
      "metadata": {
        "colab": {
          "base_uri": "https://localhost:8080/"
        },
        "id": "tSdjIPfaC0Xc",
        "outputId": "1c4a57a9-9d73-4092-dedf-b13a66351276"
      },
      "execution_count": 3,
      "outputs": [
        {
          "output_type": "stream",
          "name": "stdout",
          "text": [
            "Polygon Name: Square\n",
            "Number of Sides: 4\n",
            "Area: 25.0\n"
          ]
        }
      ]
    }
  ]
}