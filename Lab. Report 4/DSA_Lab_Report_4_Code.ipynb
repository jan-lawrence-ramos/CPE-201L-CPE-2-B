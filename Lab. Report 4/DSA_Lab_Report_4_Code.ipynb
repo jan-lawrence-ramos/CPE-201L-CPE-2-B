{
  "nbformat": 4,
  "nbformat_minor": 0,
  "metadata": {
    "colab": {
      "provenance": [],
      "authorship_tag": "ABX9TyM092XIjFAqFYHKgrqB0Lle",
      "include_colab_link": true
    },
    "kernelspec": {
      "name": "python3",
      "display_name": "Python 3"
    },
    "language_info": {
      "name": "python"
    }
  },
  "cells": [
    {
      "cell_type": "markdown",
      "metadata": {
        "id": "view-in-github",
        "colab_type": "text"
      },
      "source": [
        "<a href=\"https://colab.research.google.com/github/jan-lawrence-ramos/CPE-201L-CPE-2-B/blob/main/DSA_Lab_Report_4_Code.ipynb\" target=\"_parent\"><img src=\"https://colab.research.google.com/assets/colab-badge.svg\" alt=\"Open In Colab\"/></a>"
      ]
    },
    {
      "cell_type": "code",
      "execution_count": 1,
      "metadata": {
        "colab": {
          "base_uri": "https://localhost:8080/"
        },
        "id": "gp_saSaYLMgD",
        "outputId": "3424aed6-bd3c-4e30-f9e4-f6bb768a4bfe"
      },
      "outputs": [
        {
          "output_type": "stream",
          "name": "stdout",
          "text": [
            "\n",
            "-- JENNA'S GROCERY LIST --\n",
            "Fruit: apple | Price: 10 | Quantity: 7 | Total: 70\n",
            "Fruit: Banana | Price: 10 | Quantity: 8 | Total: 80\n",
            "Fruit: Broccoli | Price: 60 | Quantity: 12 | Total: 720\n",
            "Fruit: lettuce | Price: 50 | Quantity: 10 | Total: 500\n",
            "\n",
            "Total Sum of Grocery List: 1370\n",
            "\n",
            "Removing lettuce from the list\n",
            "\n",
            "-- UPDATED GROCERY LIST --\n",
            "Fruit: apple | Price: 10 | Quantity: 7 | Total: 70\n",
            "Fruit: Banana | Price: 10 | Quantity: 8 | Total: 80\n",
            "Fruit: Broccoli | Price: 60 | Quantity: 12 | Total: 720\n",
            "\n",
            "Total Sum of Grocery List: 870\n"
          ]
        }
      ],
      "source": [
        "# Prob 1\n",
        "class GroceryItem:\n",
        "    def __init__(self, item_type, name, price, quantity):\n",
        "        self.item_type = item_type\n",
        "        self.name = name\n",
        "        self.price = price\n",
        "        self.quantity = quantity\n",
        "\n",
        "    def calculate_total(self):\n",
        "        return self.price * self.quantity\n",
        "\n",
        "    def display(self):\n",
        "        total = self.calculate_total()\n",
        "        print(f\"{self.item_type}: {self.name} | Price: {self.price} | Quantity: {self.quantity} | Total: {total}\")\n",
        "\n",
        "# Prob 2\n",
        "def create_grocery_list():\n",
        "    \"\"\"Creates the initial grocery list\"\"\"\n",
        "    return [\n",
        "        GroceryItem(\"Fruit\", \"apple\", 10, 7),\n",
        "        GroceryItem(\"Fruit\", \"Banana\", 10, 8),\n",
        "        GroceryItem(\"Fruit\", \"Broccoli\", 60, 12),\n",
        "        GroceryItem(\"Fruit\", \"lettuce\", 50, 10)\n",
        "    ]\n",
        "\n",
        "def display_grocery_list(grocery_list, title):\n",
        "    \"\"\"Displays the grocery list with a title\"\"\"\n",
        "    print(f\"\\n-- {title} --\")\n",
        "    for item in grocery_list:\n",
        "        item.display()\n",
        "\n",
        "# Prob 3\n",
        "def calculate_grand_total(grocery_list):\n",
        "    \"\"\"Calculates the total sum of all items\"\"\"\n",
        "    return sum(item.calculate_total() for item in grocery_list)\n",
        "\n",
        "# Prob 4\n",
        "def remove_item(grocery_list, item_name):\n",
        "    \"\"\"Removes an item from the grocery list by name\"\"\"\n",
        "    for i, item in enumerate(grocery_list):\n",
        "        if item.name.lower() == item_name.lower():\n",
        "            removed_item = grocery_list.pop(i)\n",
        "            print(f\"\\nRemoving {removed_item.name} from the list\")\n",
        "            return True\n",
        "    return False\n",
        "\n",
        "def main():\n",
        "    # Initialize grocery_list\n",
        "    grocery_list = create_grocery_list()\n",
        "\n",
        "    # Display initial list\n",
        "    display_grocery_list(grocery_list, \"JENNA'S GROCERY LIST\")\n",
        "\n",
        "    # Calculate and display total\n",
        "    total = calculate_grand_total(grocery_list)\n",
        "    print(f\"\\nTotal Sum of Grocery List: {total}\")\n",
        "\n",
        "    # Remove Lettuce\n",
        "    remove_item(grocery_list, \"Lettuce\")\n",
        "\n",
        "    # Display updated list\n",
        "    display_grocery_list(grocery_list, \"UPDATED GROCERY LIST\")\n",
        "\n",
        "    # Calculate new total\n",
        "    new_total = calculate_grand_total(grocery_list)\n",
        "    print(f\"\\nTotal Sum of Grocery List: {new_total}\")\n",
        "\n",
        "if __name__ == \"__main__\":\n",
        "    main()"
      ]
    }
  ]
}