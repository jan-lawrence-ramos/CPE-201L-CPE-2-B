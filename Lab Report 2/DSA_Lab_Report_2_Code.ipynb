{
  "nbformat": 4,
  "nbformat_minor": 0,
  "metadata": {
    "colab": {
      "provenance": [],
      "authorship_tag": "ABX9TyPOJanQ7iRcdKWtg2y0oE9f",
      "include_colab_link": true
    },
    "kernelspec": {
      "name": "python3",
      "display_name": "Python 3"
    },
    "language_info": {
      "name": "python"
    }
  },
  "cells": [
    {
      "cell_type": "markdown",
      "metadata": {
        "id": "view-in-github",
        "colab_type": "text"
      },
      "source": [
        "<a href=\"https://colab.research.google.com/github/jan-lawrence-ramos/CPE-201L-CPE-2-B/blob/main/DSA_Lab_Report_2_Code.ipynb\" target=\"_parent\"><img src=\"https://colab.research.google.com/assets/colab-badge.svg\" alt=\"Open In Colab\"/></a>"
      ]
    },
    {
      "cell_type": "code",
      "execution_count": 1,
      "metadata": {
        "colab": {
          "base_uri": "https://localhost:8080/"
        },
        "id": "SrBH88VsEoJR",
        "outputId": "e976271b-b4b9-4003-bfcb-ae723d2b023b"
      },
      "outputs": [
        {
          "output_type": "stream",
          "name": "stdout",
          "text": [
            "Min: 1 Max: 9\n"
          ]
        }
      ],
      "source": [
        "def find_min_max(sequence, index=0, current_min=None, current_max=None):\n",
        "    if index == 0:  # Initialize\n",
        "        if not sequence:\n",
        "            return None, None\n",
        "        current_min = current_max = sequence[0]\n",
        "\n",
        "    if index == len(sequence):  # Base case\n",
        "        return current_min, current_max\n",
        "\n",
        "    # Update min/max\n",
        "    current_min = min(current_min, sequence[index])\n",
        "    current_max = max(current_max, sequence[index])\n",
        "\n",
        "    # Recursive call\n",
        "    return find_min_max(sequence, index + 1, current_min, current_max)\n",
        "\n",
        "# Example\n",
        "nums = [5, 2, 9, 1, 6]\n",
        "print(\"Min:\", find_min_max(nums)[0], \"Max:\", find_min_max(nums)[1])"
      ]
    }
  ]
}