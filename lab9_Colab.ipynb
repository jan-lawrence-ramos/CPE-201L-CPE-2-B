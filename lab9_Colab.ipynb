{
  "nbformat": 4,
  "nbformat_minor": 0,
  "metadata": {
    "colab": {
      "provenance": [],
      "authorship_tag": "ABX9TyOD++349H4bywhezg+b09H3",
      "include_colab_link": true
    },
    "kernelspec": {
      "name": "python3",
      "display_name": "Python 3"
    },
    "language_info": {
      "name": "python"
    }
  },
  "cells": [
    {
      "cell_type": "markdown",
      "metadata": {
        "id": "view-in-github",
        "colab_type": "text"
      },
      "source": [
        "<a href=\"https://colab.research.google.com/github/jan-lawrence-ramos/CPE-201L-CPE-2-B/blob/main/lab9_Colab.ipynb\" target=\"_parent\"><img src=\"https://colab.research.google.com/assets/colab-badge.svg\" alt=\"Open In Colab\"/></a>"
      ]
    },
    {
      "cell_type": "code",
      "execution_count": 1,
      "metadata": {
        "colab": {
          "base_uri": "https://localhost:8080/"
        },
        "id": "R-01vwUqJ-UB",
        "outputId": "16a19777-ba04-4387-e71c-0df85e18dfb8"
      },
      "outputs": [
        {
          "output_type": "stream",
          "name": "stdout",
          "text": [
            "Enqueued Element: 1\n",
            "Enqueued Element: 2\n",
            "Enqueued Element: 3\n",
            "Enqueued Element: 4\n",
            "Enqueued Element: 5\n",
            "\n",
            "The elements in the queue are: [1, 2, 3, 4, 5]\n",
            "Front element: 1\n",
            "Queue size: 5\n",
            "\n",
            "Dequeued Element: 1\n",
            "Dequeued Element: 2\n",
            "\n",
            "The elements in the queue after dequeuing: [3, 4, 5]\n",
            "Front element: 3\n",
            "Queue size: 3\n"
          ]
        }
      ],
      "source": [
        "# Queue implementation in python using list\n",
        "\n",
        "# Creating a queue\n",
        "def create_queue():\n",
        "    queue = []\n",
        "    return queue\n",
        "\n",
        "# Checking if the queue is empty\n",
        "def is_empty(queue):\n",
        "    return len(queue) == 0\n",
        "\n",
        "# Adding items to the queue (enqueue operation)\n",
        "def enqueue(queue, item):\n",
        "    queue.append(item)\n",
        "    print(\"Enqueued Element: \" + str(item))\n",
        "\n",
        "# Removing an element from the queue (dequeue operation)\n",
        "def dequeue(queue):\n",
        "    if is_empty(queue):\n",
        "        return \"The queue is empty\"\n",
        "    return queue.pop(0)\n",
        "\n",
        "# Peek at the front element without removing it\n",
        "def first(queue):\n",
        "    if is_empty(queue):\n",
        "        return \"The queue is empty\"\n",
        "    return queue[0]\n",
        "\n",
        "# Get the size of the queue\n",
        "def queue_size(queue):\n",
        "    return len(queue)\n",
        "\n",
        "# Demonstration of queue operations\n",
        "queue = create_queue()\n",
        "\n",
        "# Enqueue operations\n",
        "enqueue(queue, 1)\n",
        "enqueue(queue, 2)\n",
        "enqueue(queue, 3)\n",
        "enqueue(queue, 4)\n",
        "enqueue(queue, 5)\n",
        "\n",
        "print(\"\\nThe elements in the queue are: \" + str(queue))\n",
        "print(\"Front element: \" + str(first(queue)))\n",
        "print(\"Queue size: \" + str(queue_size(queue)))\n",
        "\n",
        "# Dequeue operations\n",
        "print(\"\\nDequeued Element: \" + str(dequeue(queue)))\n",
        "print(\"Dequeued Element: \" + str(dequeue(queue)))\n",
        "\n",
        "print(\"\\nThe elements in the queue after dequeuing: \" + str(queue))\n",
        "print(\"Front element: \" + str(first(queue)))\n",
        "print(\"Queue size: \" + str(queue_size(queue)))"
      ]
    },
    {
      "cell_type": "markdown",
      "source": [],
      "metadata": {
        "id": "nMU2NrTCUXC5"
      }
    }
  ]
}