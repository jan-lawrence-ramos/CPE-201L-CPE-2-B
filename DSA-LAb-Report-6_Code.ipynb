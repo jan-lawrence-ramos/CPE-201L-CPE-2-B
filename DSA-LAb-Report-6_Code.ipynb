{
  "nbformat": 4,
  "nbformat_minor": 0,
  "metadata": {
    "colab": {
      "provenance": [],
      "authorship_tag": "ABX9TyPwQchvFv6PjmNrNe0TEeEq",
      "include_colab_link": true
    },
    "kernelspec": {
      "name": "python3",
      "display_name": "Python 3"
    },
    "language_info": {
      "name": "python"
    }
  },
  "cells": [
    {
      "cell_type": "markdown",
      "metadata": {
        "id": "view-in-github",
        "colab_type": "text"
      },
      "source": [
        "<a href=\"https://colab.research.google.com/github/jan-lawrence-ramos/CPE-201L-CPE-2-B/blob/main/DSA-LAb-Report-6_Code.ipynb\" target=\"_parent\"><img src=\"https://colab.research.google.com/assets/colab-badge.svg\" alt=\"Open In Colab\"/></a>"
      ]
    },
    {
      "cell_type": "code",
      "execution_count": 1,
      "metadata": {
        "colab": {
          "base_uri": "https://localhost:8080/"
        },
        "id": "EE9fripDo6fW",
        "outputId": "6139db0b-bc6d-4071-e307-05c61ea833cc"
      },
      "outputs": [
        {
          "output_type": "stream",
          "name": "stdout",
          "text": [
            "Prime numbers less than 20:\n",
            "2 -> 3 -> 5 -> 7 -> 11 -> 13 -> 17 -> 19\n",
            "Head of the list: 2\n",
            "Tail of the list: 19\n"
          ]
        }
      ],
      "source": [
        "class Node:\n",
        "    def __init__(self, data):\n",
        "        self.data = data\n",
        "        self.next = None\n",
        "\n",
        "class LinkedList:\n",
        "    def __init__(self):\n",
        "        self.head = None\n",
        "        self.tail = None\n",
        "\n",
        "    def append(self, data):\n",
        "        new_node = Node(data)\n",
        "        if self.head is None:\n",
        "            self.head = new_node\n",
        "            self.tail = new_node\n",
        "        else:\n",
        "            self.tail.next = new_node\n",
        "            self.tail = new_node\n",
        "\n",
        "    def display(self):\n",
        "        current = self.head\n",
        "        prime_list = []\n",
        "        while current:\n",
        "            prime_list.append(str(current.data))\n",
        "            current = current.next\n",
        "        return \" -> \".join(prime_list)\n",
        "\n",
        "    def get_head(self):\n",
        "        return self.head.data if self.head else None\n",
        "\n",
        "    def get_tail(self):\n",
        "        return self.tail.data if self.tail else None\n",
        "\n",
        "def is_prime(n):\n",
        "    if n <= 1:\n",
        "        return False\n",
        "    for i in range(2, int(n**0.5) + 1):\n",
        "        if n % i == 0:\n",
        "            return False\n",
        "    return True\n",
        "\n",
        "# Create linked list of primes less than 20\n",
        "primes = LinkedList()\n",
        "for num in range(2, 20):\n",
        "    if is_prime(num):\n",
        "        primes.append(num)\n",
        "\n",
        "# Display results\n",
        "print(\"Prime numbers less than 20:\")\n",
        "print(primes.display())\n",
        "print(f\"Head of the list: {primes.get_head()}\")\n",
        "print(f\"Tail of the list: {primes.get_tail()}\")\n",
        "\n"
      ]
    }
  ]
}