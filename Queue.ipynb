{
  "nbformat": 4,
  "nbformat_minor": 0,
  "metadata": {
    "colab": {
      "provenance": [],
      "authorship_tag": "ABX9TyMp5cLpIL66YJPMrjq0+FAb",
      "include_colab_link": true
    },
    "kernelspec": {
      "name": "python3",
      "display_name": "Python 3"
    },
    "language_info": {
      "name": "python"
    }
  },
  "cells": [
    {
      "cell_type": "markdown",
      "metadata": {
        "id": "view-in-github",
        "colab_type": "text"
      },
      "source": [
        "<a href=\"https://colab.research.google.com/github/jan-lawrence-ramos/CPE-201L-CPE-2-B/blob/main/Queue.ipynb\" target=\"_parent\"><img src=\"https://colab.research.google.com/assets/colab-badge.svg\" alt=\"Open In Colab\"/></a>"
      ]
    },
    {
      "cell_type": "code",
      "execution_count": 16,
      "metadata": {
        "colab": {
          "base_uri": "https://localhost:8080/"
        },
        "id": "PoFE8DD09X0Y",
        "outputId": "eec64142-de27-4777-ed1a-864d92b33329"
      },
      "outputs": [
        {
          "output_type": "stream",
          "name": "stdout",
          "text": [
            "Original queue: ['A', 'B', 'C']\n",
            "Reversed queue: ['C', 'B', 'A']\n",
            "Copied queue: ['C', 'B', 'A']\n",
            "Merged queue: ['C', 'B', 'A', 'C', 'B', 'A']\n",
            "Is empty? False\n",
            "Is full? False\n",
            "Head: C\n",
            "Tail: A\n",
            "Dequeued: C\n",
            "Dequeued: B\n",
            "Dequeued: A\n",
            "Queue after dequeue: []\n",
            "Now is empty? True\n",
            "Head now: None\n",
            "Tail now: None\n"
          ]
        }
      ],
      "source": [
        "queue = []\n",
        "\n",
        "# Enqueue items into queue\n",
        "queue.append('A')\n",
        "queue.append('B')\n",
        "queue.append('C')\n",
        "print(\"Original queue:\", queue)  # Output: ['A', 'B', 'C']\n",
        "\n",
        "# Queue operations\n",
        "def reverse_queue():\n",
        "    global queue\n",
        "    queue = queue[::-1]  # Reverse the order\n",
        "\n",
        "def copy_queue():\n",
        "    return queue.copy()  # Return a copy of the queue\n",
        "\n",
        "def merge_queues(queue1, queue2):\n",
        "    return queue1 + queue2  # Combine two queues\n",
        "\n",
        "def empty_queue():\n",
        "    return len(queue) == 0  # Check if queue is empty\n",
        "\n",
        "def full_queue():\n",
        "    return False  # Python queues can grow infinitely (unless limited)\n",
        "\n",
        "def head_queue():\n",
        "    return queue[0] if not empty_queue() else None  # Get first item\n",
        "\n",
        "def tail_queue():\n",
        "    return queue[-1] if not empty_queue() else None  # Get last item\n",
        "\n",
        "reverse_queue()\n",
        "print(\"Reversed queue:\", queue)  # Output: ['C', 'B', 'A']\n",
        "\n",
        "copied = copy_queue()\n",
        "print(\"Copied queue:\", copied)  # Output: ['C', 'B', 'A']\n",
        "\n",
        "merged = merge_queues(queue, copied)\n",
        "print(\"Merged queue:\", merged)  # Output: ['C', 'B', 'A', 'C', 'B', 'A']\n",
        "\n",
        "print(\"Is empty?\", empty_queue())  # Output: False\n",
        "print(\"Is full?\", full_queue())    # Output: False\n",
        "print(\"Head:\", head_queue())       # Output: \"C\"\n",
        "print(\"Tail:\", tail_queue())       # Output: \"A\"\n",
        "\n",
        "# Dequeue items\n",
        "print(\"Dequeued:\", queue.pop(0))  # Output: 'C'\n",
        "print(\"Dequeued:\", queue.pop(0))  # Output: 'B'\n",
        "print(\"Dequeued:\", queue.pop(0))  # Output: 'A'\n",
        "print(\"Queue after dequeue:\", queue)  # Output: []\n",
        "\n",
        "print(\"Now is empty?\", empty_queue())  # Output: True\n",
        "print(\"Head now:\", head_queue())      # Output: None\n",
        "print(\"Tail now:\", tail_queue())      # Output: None"
      ]
    }
  ]
}