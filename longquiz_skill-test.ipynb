{
  "nbformat": 4,
  "nbformat_minor": 0,
  "metadata": {
    "colab": {
      "provenance": [],
      "authorship_tag": "ABX9TyPpT+J44ELqO83IVGToESgS",
      "include_colab_link": true
    },
    "kernelspec": {
      "name": "python3",
      "display_name": "Python 3"
    },
    "language_info": {
      "name": "python"
    }
  },
  "cells": [
    {
      "cell_type": "markdown",
      "metadata": {
        "id": "view-in-github",
        "colab_type": "text"
      },
      "source": [
        "<a href=\"https://colab.research.google.com/github/jan-lawrence-ramos/CPE-201L-CPE-2-B/blob/main/longquiz_skill-test.ipynb\" target=\"_parent\"><img src=\"https://colab.research.google.com/assets/colab-badge.svg\" alt=\"Open In Colab\"/></a>"
      ]
    },
    {
      "cell_type": "code",
      "execution_count": 6,
      "metadata": {
        "colab": {
          "base_uri": "https://localhost:8080/"
        },
        "id": "TumjNyjj1H-i",
        "outputId": "bc42e6e4-c1a9-4e2a-f5bc-dd273630e17e"
      },
      "outputs": [
        {
          "output_type": "stream",
          "name": "stdout",
          "text": [
            "Linked List Contents:\n",
            "JAN LAWRENCE MERCADER RAMOS_\n"
          ]
        }
      ],
      "source": [
        "class Node:\n",
        "    def __init__(self, data):\n",
        "        self.data = data\n",
        "        self.next = None\n",
        "        self.prev = None\n",
        "\n",
        "class Linkedlist:\n",
        "    def __init__(self):\n",
        "        self.head = None\n",
        "        self.tail = None\n",
        "\n",
        "    def append(self, data):\n",
        "        new_node = Node(data)\n",
        "        if self.head is None:\n",
        "            self.head = new_node\n",
        "            self.tail = new_node\n",
        "        else:\n",
        "            self.tail.next = new_node\n",
        "            new_node.prev = self.tail\n",
        "            self.tail = new_node\n",
        "\n",
        "    def traverse(self):\n",
        "        current = self.head\n",
        "        while current:\n",
        "            print(current.data, end=\"\")\n",
        "            current = current.next\n",
        "        print(\"_\")  # this will add underscore at the end\n",
        "\n",
        "    def insert_underscores(self):\n",
        "        current = self.head\n",
        "        while current:\n",
        "            print(current.data, end=\" -> \")\n",
        "            current = current.next\n",
        "        print(\"_ -> None\") # this will add underscore at the end\n",
        "\n",
        "fullname = 'JAN LAWRENCE MERCADER RAMOS' # this is the fullname\n",
        "name_list = Linkedlist()\n",
        "\n",
        "for char in fullname:\n",
        "    name_list.append(char)\n",
        "\n",
        "# this will print the fullname with the underscore at the end\n",
        "print(\"Linked List Contents:\")\n",
        "name_list.traverse()\n",
        "\n"
      ]
    }
  ]
}