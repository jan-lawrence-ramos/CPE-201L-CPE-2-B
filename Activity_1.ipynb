{
  "nbformat": 4,
  "nbformat_minor": 0,
  "metadata": {
    "colab": {
      "provenance": [],
      "authorship_tag": "ABX9TyNhtPTIjdS9UpisUH3C0t0a",
      "include_colab_link": true
    },
    "kernelspec": {
      "name": "python3",
      "display_name": "Python 3"
    },
    "language_info": {
      "name": "python"
    }
  },
  "cells": [
    {
      "cell_type": "markdown",
      "metadata": {
        "id": "view-in-github",
        "colab_type": "text"
      },
      "source": [
        "<a href=\"https://colab.research.google.com/github/jan-lawrence-ramos/CPE-201L-CPE-2-B/blob/main/Activity_1.ipynb\" target=\"_parent\"><img src=\"https://colab.research.google.com/assets/colab-badge.svg\" alt=\"Open In Colab\"/></a>"
      ]
    },
    {
      "cell_type": "code",
      "execution_count": 9,
      "metadata": {
        "colab": {
          "base_uri": "https://localhost:8080/"
        },
        "id": "GyAIWv8pWpRM",
        "outputId": "a334663e-d076-44c3-a4fc-41f1c8910485"
      },
      "outputs": [
        {
          "output_type": "stream",
          "name": "stdout",
          "text": [
            "Enter the radius of the circle: 5\n",
            "The area of the circle with radius 5.0 is 78.54\n"
          ]
        }
      ],
      "source": [
        "import math\n",
        "radius = float(input(\"Enter the radius of the circle: \"))\n",
        "\n",
        "area = math.pi * radius ** 2\n",
        "\n",
        "print(f\"The area of the circle with radius {radius} is {area:.2f}\")"
      ]
    },
    {
      "cell_type": "code",
      "source": [
        "import math\n",
        "diameter = float(input(\"Enter the diameter of the circle: \"))\n",
        "\n",
        "area = math.pi * (diameter/2)**2\n",
        "\n",
        "print(f\"The area of the circle with diameter {diameter} is {area:.2f}\")"
      ],
      "metadata": {
        "colab": {
          "base_uri": "https://localhost:8080/"
        },
        "id": "y424mw99a3P_",
        "outputId": "0baeb924-48a3-4ac6-f93a-dbe7b6d1188d"
      },
      "execution_count": 17,
      "outputs": [
        {
          "output_type": "stream",
          "name": "stdout",
          "text": [
            "Enter the diameter of the circle: 10\n",
            "The area of the circle with diameter 10.0 is 78.54\n"
          ]
        }
      ]
    },
    {
      "cell_type": "markdown",
      "source": [],
      "metadata": {
        "id": "dEUC3-mXY23O"
      }
    }
  ]
}